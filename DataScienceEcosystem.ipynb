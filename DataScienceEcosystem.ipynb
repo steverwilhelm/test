{
 "cells": [
  {
   "cell_type": "markdown",
   "id": "41d59bc2-f7f6-443f-9f49-9d8280e5469c",
   "metadata": {},
   "source": [
    "# Data Science Tools and Ecosystem"
   ]
  },
  {
   "cell_type": "markdown",
   "id": "7aa7017d-894d-4a20-af8b-fdb1231a16ff",
   "metadata": {},
   "source": [
    "We will be looking at for Data Science Tools and Ecosystems are summarized in this notebook."
   ]
  },
  {
   "cell_type": "markdown",
   "id": "5c1040af-c94f-48ab-bf01-ac62409fbdd4",
   "metadata": {},
   "source": [
    "**Objectives:**\n",
    "* Popular Languages \n",
    "* Commonly used Libraries\n",
    "* Minutes to Hours Conversiom"
   ]
  },
  {
   "cell_type": "markdown",
   "id": "b1bb1d6a-088c-49f6-8938-e08a2449c1ee",
   "metadata": {},
   "source": [
    "Some popular languages that are used by Data Scienctist include:\n",
    "1. Python\n",
    "2. R\n",
    "3. Julia"
   ]
  },
  {
   "cell_type": "markdown",
   "id": "0b086252-04d4-4373-9360-36b2200c2e5a",
   "metadata": {},
   "source": [
    "Some of the commonly used libraries used by Data Scientists include:\n",
    "1. Scikit-learn\n",
    "2. TensorFlow\n",
    "3. Keras"
   ]
  },
  {
   "cell_type": "markdown",
   "id": "10f506b8-13df-4d06-a59c-36d80cb52b8c",
   "metadata": {},
   "source": [
    "| Date Science Tools |\n",
    "| -------------|\n",
    "| Jupyter Lab |\n",
    "| R |\n",
    "| MLflow |"
   ]
  },
  {
   "cell_type": "markdown",
   "id": "acc698c4-b065-4e99-a6b9-64ed39dcd7c0",
   "metadata": {},
   "source": [
    "### Some examples of evaluating arithmetic expressions in Python."
   ]
  },
  {
   "cell_type": "code",
   "execution_count": 1,
   "id": "9b8098ab-2451-4ece-9cae-ae4ccde0f478",
   "metadata": {},
   "outputs": [
    {
     "data": {
      "text/plain": [
       "17"
      ]
     },
     "execution_count": 1,
     "metadata": {},
     "output_type": "execute_result"
    }
   ],
   "source": [
    "# This is a simple arithmetic expression to multiply then add integers:\n",
    "(3 * 4) + 5"
   ]
  },
  {
   "cell_type": "code",
   "execution_count": 2,
   "id": "94fef91b-447a-4249-a647-8d53990b1307",
   "metadata": {},
   "outputs": [
    {
     "data": {
      "text/plain": [
       "3.3333333333333335"
      ]
     },
     "execution_count": 2,
     "metadata": {},
     "output_type": "execute_result"
    }
   ],
   "source": [
    "# This will convert 200 minutes to hours by deviding 60\n",
    "200 / 60"
   ]
  },
  {
   "cell_type": "markdown",
   "id": "6bec9fc0-7cc0-49cc-8d77-05691c145264",
   "metadata": {},
   "source": [
    "## Author\n",
    "Steve Wilhelm"
   ]
  },
  {
   "cell_type": "code",
   "execution_count": null,
   "id": "df9ae65b-221a-460c-ac0f-0564909970ca",
   "metadata": {},
   "outputs": [],
   "source": []
  }
 ],
 "metadata": {
  "kernelspec": {
   "display_name": "Python 3 (ipykernel)",
   "language": "python",
   "name": "python3"
  },
  "language_info": {
   "codemirror_mode": {
    "name": "ipython",
    "version": 3
   },
   "file_extension": ".py",
   "mimetype": "text/x-python",
   "name": "python",
   "nbconvert_exporter": "python",
   "pygments_lexer": "ipython3",
   "version": "3.12.1"
  }
 },
 "nbformat": 4,
 "nbformat_minor": 5
}
